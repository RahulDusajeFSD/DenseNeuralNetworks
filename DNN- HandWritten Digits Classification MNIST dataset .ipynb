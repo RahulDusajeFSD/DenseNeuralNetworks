{
 "cells": [
  {
   "cell_type": "code",
   "execution_count": null,
   "metadata": {},
   "outputs": [],
   "source": [
    "\n",
    "import tensorflow as tf\n",
    "from tensorflow.keras.datasets import mnist\n",
    "(x_train ,y_train),(x_test,y_test)=mnist.load_data()\n",
    "import matplotlib.pyplot as plt\n",
    "\n",
    "\n",
    "from tensorflow.keras.utils import to_categorical\n",
    "y_train_encoded = to_categorical(y_train)\n",
    "y_test_encoded=to_categorical(y_test)\n",
    "\n",
    "import numpy as np\n",
    "x_train_reshaped=np.reshape(x_train ,(60000,784))\n",
    "x_test_reshaped=np.reshape(x_test ,(10000,784))\n",
    "\n",
    "\n",
    "x_mean =np.mean(x_train_reshaped)\n",
    "x_std =np.std(x_train_reshaped)\n",
    "\n",
    "epsilon =1e-10\n",
    "\n",
    "x_train_norm=(x_train_reshaped-x_mean)/(x_std+epsilon)\n",
    "x_test_norm=(x_test_reshaped -x_mean)/(x_std+epsilon)\n",
    "\n",
    "from tensorflow.keras.models import Sequential\n",
    "from tensorflow.keras.layers import Dense\n",
    "\n",
    "model =Sequential([\n",
    "    \n",
    "    Dense(128 , activation='relu', input_shape=(784,)),\n",
    "    Dense(128 , activation='relu'),\n",
    "    Dense(10 , activation='softmax')\n",
    "    \n",
    "])\n",
    "\n",
    "model.compile(\n",
    "    optimizer='sgd',\n",
    "    loss='categorical_crossentropy',\n",
    "    metrics=['accuracy']\n",
    ")\n",
    "model.fit(x_train_norm, y_train_encoded ,epochs = 10)\n",
    "loss,accuracy =model.evaluate(x_test_norm , y_test_encoded)\n",
    "y_pred=model.predict(x_test_norm)\n",
    "np.argmax(y_pred[67])\n",
    "plt.imshow(x_test[67])"
   ]
  },
  {
   "cell_type": "code",
   "execution_count": null,
   "metadata": {},
   "outputs": [],
   "source": []
  }
 ],
 "metadata": {
  "kernelspec": {
   "display_name": "Python 3",
   "language": "python",
   "name": "python3"
  },
  "language_info": {
   "codemirror_mode": {
    "name": "ipython",
    "version": 3
   },
   "file_extension": ".py",
   "mimetype": "text/x-python",
   "name": "python",
   "nbconvert_exporter": "python",
   "pygments_lexer": "ipython3",
   "version": "3.6.9"
  }
 },
 "nbformat": 4,
 "nbformat_minor": 2
}
